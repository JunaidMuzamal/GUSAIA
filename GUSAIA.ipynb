{
  "cells": [
    {
      "cell_type": "markdown",
      "metadata": {
        "id": "etniX_KTlJ5U",
        "pycharm": {
          "name": "#%% md\n"
        }
      },
      "source": [
        "# GUSAIA"
      ]
    },
    {
      "cell_type": "code",
      "execution_count": 1,
      "metadata": {
        "colab": {
          "base_uri": "https://localhost:8080/"
        },
        "id": "e3dDxs8LFZdT",
        "outputId": "b8dee698-be62-423b-b55c-c286596e351e",
        "pycharm": {
          "name": "#%%\n"
        }
      },
      "outputs": [
        {
          "output_type": "stream",
          "name": "stdout",
          "text": [
            "fatal: destination path 'GUSAIA' already exists and is not an empty directory.\n"
          ]
        }
      ],
      "source": [
        "!git clone https://github.com/JunaidMuzamal/GUSAIA"
      ]
    },
    {
      "cell_type": "code",
      "execution_count": 2,
      "metadata": {
        "colab": {
          "base_uri": "https://localhost:8080/"
        },
        "id": "te9stFZtFfZu",
        "outputId": "b9648e4c-5862-402c-e8e1-ac1388e52423",
        "pycharm": {
          "name": "#%%\n"
        }
      },
      "outputs": [
        {
          "output_type": "stream",
          "name": "stdout",
          "text": [
            "/content/GUSAIA\n"
          ]
        }
      ],
      "source": [
        "%cd GUSAIA"
      ]
    },
    {
      "cell_type": "code",
      "execution_count": 3,
      "metadata": {
        "id": "6u1DGKsAlLF-",
        "pycharm": {
          "name": "#%%\n"
        }
      },
      "outputs": [],
      "source": [
        "import numpy as np\n",
        "import pandas as pd\n",
        "import matplotlib.pyplot as plt\n",
        "import seaborn as sns\n",
        "import torch\n",
        "import torch.nn as nn\n",
        "\n",
        "from utils import *\n",
        "from gusaia import *"
      ]
    },
    {
      "cell_type": "code",
      "execution_count": 4,
      "metadata": {
        "colab": {
          "base_uri": "https://localhost:8080/"
        },
        "id": "4AzWlDBI_djV",
        "outputId": "09e3d49d-b0cc-46bb-dc50-262f3eb6495e",
        "pycharm": {
          "name": "#%%\n"
        }
      },
      "outputs": [
        {
          "output_type": "stream",
          "name": "stdout",
          "text": [
            "GPU 0: Tesla T4 (UUID: GPU-e0f9e6c1-95ca-ea6f-4df7-df6953775f37)\n"
          ]
        }
      ],
      "source": [
        "!nvidia-smi -L\n",
        "\n",
        "device = get_default_device()"
      ]
    },
    {
      "cell_type": "markdown",
      "metadata": {
        "id": "1crx5rGP9ONf",
        "pycharm": {
          "name": "#%% md\n"
        }
      },
      "source": [
        "## EDA - Data Pre-Processing"
      ]
    },
    {
      "cell_type": "markdown",
      "metadata": {
        "id": "vxofeE469RhT",
        "pycharm": {
          "name": "#%% md\n"
        }
      },
      "source": [
        "### Download dataset"
      ]
    },
    {
      "cell_type": "code",
      "execution_count": 5,
      "metadata": {
        "colab": {
          "base_uri": "https://localhost:8080/"
        },
        "id": "i95DlAZI1G_p",
        "outputId": "9609aac8-d5b0-4b98-85d7-d0333ff7bed1",
        "scrolled": false,
        "pycharm": {
          "name": "#%%\n"
        }
      },
      "outputs": [
        {
          "output_type": "stream",
          "name": "stdout",
          "text": [
            "input/SWaT_Dataset_Normal_v1.csv\n",
            "[==================================================] 163.77MB/163.77MB\n",
            "input/SWaT_Dataset_Attack_v0.csv\n",
            "[==================================================] 127.27MB/127.27MB\n"
          ]
        }
      ],
      "source": [
        "!mkdir input\n",
        "#normal period\n",
        "!python gdrivedl.py https://drive.google.com/open?id=1rVJ5ry5GG-ZZi5yI4x9lICB8VhErXwCw input/\n",
        "#anomalies\n",
        "!python gdrivedl.py https://drive.google.com/open?id=1iDYc0OEmidN712fquOBRFjln90SbpaE7 input/"
      ]
    },
    {
      "cell_type": "markdown",
      "metadata": {
        "id": "kfSj4FYL9W8Y",
        "pycharm": {
          "name": "#%% md\n"
        }
      },
      "source": [
        "### Normal period"
      ]
    },
    {
      "cell_type": "code",
      "execution_count": 6,
      "metadata": {
        "colab": {
          "base_uri": "https://localhost:8080/"
        },
        "id": "XeDLxV_r1G9n",
        "outputId": "44452935-05a3-4df5-db61-19dbd014831b",
        "pycharm": {
          "name": "#%%\n"
        }
      },
      "outputs": [
        {
          "output_type": "stream",
          "name": "stderr",
          "text": [
            "/usr/local/lib/python3.7/dist-packages/IPython/core/interactiveshell.py:3326: DtypeWarning: Columns (26) have mixed types.Specify dtype option on import or set low_memory=False.\n",
            "  exec(code_obj, self.user_global_ns, self.user_ns)\n"
          ]
        },
        {
          "output_type": "execute_result",
          "data": {
            "text/plain": [
              "(495000, 51)"
            ]
          },
          "metadata": {},
          "execution_count": 6
        }
      ],
      "source": [
        "#Read data\n",
        "normal = pd.read_csv(\"input/SWaT_Dataset_Normal_v1.csv\")#, nrows=1000)\n",
        "normal = normal.drop([\"Timestamp\" , \"Normal/Attack\" ] , axis = 1)\n",
        "normal.shape"
      ]
    },
    {
      "cell_type": "code",
      "execution_count": 7,
      "metadata": {
        "id": "fFuLm1GH1G2n",
        "pycharm": {
          "name": "#%%\n"
        }
      },
      "outputs": [],
      "source": [
        "# Transform all columns into float64\n",
        "for i in list(normal): \n",
        "    normal[i]=normal[i].apply(lambda x: str(x).replace(\",\" , \".\"))\n",
        "normal = normal.astype(float)"
      ]
    },
    {
      "cell_type": "markdown",
      "metadata": {
        "id": "zxFNH5kU9hIE",
        "pycharm": {
          "name": "#%% md\n"
        }
      },
      "source": [
        "#### Normalization"
      ]
    },
    {
      "cell_type": "code",
      "execution_count": 8,
      "metadata": {
        "id": "Mfxj4Uxn9kv4",
        "pycharm": {
          "name": "#%%\n"
        }
      },
      "outputs": [],
      "source": [
        "from sklearn import preprocessing\n",
        "min_max_scaler = preprocessing.MinMaxScaler()\n",
        "\n",
        "x = normal.values\n",
        "x_scaled = min_max_scaler.fit_transform(x)\n",
        "normal = pd.DataFrame(x_scaled)"
      ]
    },
    {
      "cell_type": "code",
      "execution_count": null,
      "metadata": {
        "colab": {
          "base_uri": "https://localhost:8080/",
          "height": 141
        },
        "id": "mQ6_U4jn9nlw",
        "outputId": "7a5eeef1-7375-457c-b480-a792baf00d26",
        "pycharm": {
          "name": "#%%\n"
        }
      },
      "outputs": [
        {
          "output_type": "execute_result",
          "data": {
            "text/plain": [
              "    0         1    2    3    4         5         6         7    8    9   ...  \\\n",
              "0  0.0  0.005294  0.5  0.0  0.0  0.012291  0.075099  0.002009  0.0  0.5  ...   \n",
              "1  0.0  0.005407  0.5  0.0  0.0  0.012291  0.075099  0.002009  0.0  0.5  ...   \n",
              "\n",
              "    41   42   43        44   45        46        47   48   49   50  \n",
              "0  0.0  0.0  0.0  0.000814  0.0  0.001217  0.000147  0.0  0.0  0.0  \n",
              "1  0.0  0.0  0.0  0.000814  0.0  0.001217  0.000147  0.0  0.0  0.0  \n",
              "\n",
              "[2 rows x 51 columns]"
            ],
            "text/html": [
              "\n",
              "  <div id=\"df-fb2380ea-e78a-4744-b9b8-2bf81cf31388\">\n",
              "    <div class=\"colab-df-container\">\n",
              "      <div>\n",
              "<style scoped>\n",
              "    .dataframe tbody tr th:only-of-type {\n",
              "        vertical-align: middle;\n",
              "    }\n",
              "\n",
              "    .dataframe tbody tr th {\n",
              "        vertical-align: top;\n",
              "    }\n",
              "\n",
              "    .dataframe thead th {\n",
              "        text-align: right;\n",
              "    }\n",
              "</style>\n",
              "<table border=\"1\" class=\"dataframe\">\n",
              "  <thead>\n",
              "    <tr style=\"text-align: right;\">\n",
              "      <th></th>\n",
              "      <th>0</th>\n",
              "      <th>1</th>\n",
              "      <th>2</th>\n",
              "      <th>3</th>\n",
              "      <th>4</th>\n",
              "      <th>5</th>\n",
              "      <th>6</th>\n",
              "      <th>7</th>\n",
              "      <th>8</th>\n",
              "      <th>9</th>\n",
              "      <th>...</th>\n",
              "      <th>41</th>\n",
              "      <th>42</th>\n",
              "      <th>43</th>\n",
              "      <th>44</th>\n",
              "      <th>45</th>\n",
              "      <th>46</th>\n",
              "      <th>47</th>\n",
              "      <th>48</th>\n",
              "      <th>49</th>\n",
              "      <th>50</th>\n",
              "    </tr>\n",
              "  </thead>\n",
              "  <tbody>\n",
              "    <tr>\n",
              "      <th>0</th>\n",
              "      <td>0.0</td>\n",
              "      <td>0.005294</td>\n",
              "      <td>0.5</td>\n",
              "      <td>0.0</td>\n",
              "      <td>0.0</td>\n",
              "      <td>0.012291</td>\n",
              "      <td>0.075099</td>\n",
              "      <td>0.002009</td>\n",
              "      <td>0.0</td>\n",
              "      <td>0.5</td>\n",
              "      <td>...</td>\n",
              "      <td>0.0</td>\n",
              "      <td>0.0</td>\n",
              "      <td>0.0</td>\n",
              "      <td>0.000814</td>\n",
              "      <td>0.0</td>\n",
              "      <td>0.001217</td>\n",
              "      <td>0.000147</td>\n",
              "      <td>0.0</td>\n",
              "      <td>0.0</td>\n",
              "      <td>0.0</td>\n",
              "    </tr>\n",
              "    <tr>\n",
              "      <th>1</th>\n",
              "      <td>0.0</td>\n",
              "      <td>0.005407</td>\n",
              "      <td>0.5</td>\n",
              "      <td>0.0</td>\n",
              "      <td>0.0</td>\n",
              "      <td>0.012291</td>\n",
              "      <td>0.075099</td>\n",
              "      <td>0.002009</td>\n",
              "      <td>0.0</td>\n",
              "      <td>0.5</td>\n",
              "      <td>...</td>\n",
              "      <td>0.0</td>\n",
              "      <td>0.0</td>\n",
              "      <td>0.0</td>\n",
              "      <td>0.000814</td>\n",
              "      <td>0.0</td>\n",
              "      <td>0.001217</td>\n",
              "      <td>0.000147</td>\n",
              "      <td>0.0</td>\n",
              "      <td>0.0</td>\n",
              "      <td>0.0</td>\n",
              "    </tr>\n",
              "  </tbody>\n",
              "</table>\n",
              "<p>2 rows × 51 columns</p>\n",
              "</div>\n",
              "      <button class=\"colab-df-convert\" onclick=\"convertToInteractive('df-fb2380ea-e78a-4744-b9b8-2bf81cf31388')\"\n",
              "              title=\"Convert this dataframe to an interactive table.\"\n",
              "              style=\"display:none;\">\n",
              "        \n",
              "  <svg xmlns=\"http://www.w3.org/2000/svg\" height=\"24px\"viewBox=\"0 0 24 24\"\n",
              "       width=\"24px\">\n",
              "    <path d=\"M0 0h24v24H0V0z\" fill=\"none\"/>\n",
              "    <path d=\"M18.56 5.44l.94 2.06.94-2.06 2.06-.94-2.06-.94-.94-2.06-.94 2.06-2.06.94zm-11 1L8.5 8.5l.94-2.06 2.06-.94-2.06-.94L8.5 2.5l-.94 2.06-2.06.94zm10 10l.94 2.06.94-2.06 2.06-.94-2.06-.94-.94-2.06-.94 2.06-2.06.94z\"/><path d=\"M17.41 7.96l-1.37-1.37c-.4-.4-.92-.59-1.43-.59-.52 0-1.04.2-1.43.59L10.3 9.45l-7.72 7.72c-.78.78-.78 2.05 0 2.83L4 21.41c.39.39.9.59 1.41.59.51 0 1.02-.2 1.41-.59l7.78-7.78 2.81-2.81c.8-.78.8-2.07 0-2.86zM5.41 20L4 18.59l7.72-7.72 1.47 1.35L5.41 20z\"/>\n",
              "  </svg>\n",
              "      </button>\n",
              "      \n",
              "  <style>\n",
              "    .colab-df-container {\n",
              "      display:flex;\n",
              "      flex-wrap:wrap;\n",
              "      gap: 12px;\n",
              "    }\n",
              "\n",
              "    .colab-df-convert {\n",
              "      background-color: #E8F0FE;\n",
              "      border: none;\n",
              "      border-radius: 50%;\n",
              "      cursor: pointer;\n",
              "      display: none;\n",
              "      fill: #1967D2;\n",
              "      height: 32px;\n",
              "      padding: 0 0 0 0;\n",
              "      width: 32px;\n",
              "    }\n",
              "\n",
              "    .colab-df-convert:hover {\n",
              "      background-color: #E2EBFA;\n",
              "      box-shadow: 0px 1px 2px rgba(60, 64, 67, 0.3), 0px 1px 3px 1px rgba(60, 64, 67, 0.15);\n",
              "      fill: #174EA6;\n",
              "    }\n",
              "\n",
              "    [theme=dark] .colab-df-convert {\n",
              "      background-color: #3B4455;\n",
              "      fill: #D2E3FC;\n",
              "    }\n",
              "\n",
              "    [theme=dark] .colab-df-convert:hover {\n",
              "      background-color: #434B5C;\n",
              "      box-shadow: 0px 1px 3px 1px rgba(0, 0, 0, 0.15);\n",
              "      filter: drop-shadow(0px 1px 2px rgba(0, 0, 0, 0.3));\n",
              "      fill: #FFFFFF;\n",
              "    }\n",
              "  </style>\n",
              "\n",
              "      <script>\n",
              "        const buttonEl =\n",
              "          document.querySelector('#df-fb2380ea-e78a-4744-b9b8-2bf81cf31388 button.colab-df-convert');\n",
              "        buttonEl.style.display =\n",
              "          google.colab.kernel.accessAllowed ? 'block' : 'none';\n",
              "\n",
              "        async function convertToInteractive(key) {\n",
              "          const element = document.querySelector('#df-fb2380ea-e78a-4744-b9b8-2bf81cf31388');\n",
              "          const dataTable =\n",
              "            await google.colab.kernel.invokeFunction('convertToInteractive',\n",
              "                                                     [key], {});\n",
              "          if (!dataTable) return;\n",
              "\n",
              "          const docLinkHtml = 'Like what you see? Visit the ' +\n",
              "            '<a target=\"_blank\" href=https://colab.research.google.com/notebooks/data_table.ipynb>data table notebook</a>'\n",
              "            + ' to learn more about interactive tables.';\n",
              "          element.innerHTML = '';\n",
              "          dataTable['output_type'] = 'display_data';\n",
              "          await google.colab.output.renderOutput(dataTable, element);\n",
              "          const docLink = document.createElement('div');\n",
              "          docLink.innerHTML = docLinkHtml;\n",
              "          element.appendChild(docLink);\n",
              "        }\n",
              "      </script>\n",
              "    </div>\n",
              "  </div>\n",
              "  "
            ]
          },
          "metadata": {},
          "execution_count": 14
        }
      ],
      "source": [
        "normal.head(2)"
      ]
    },
    {
      "cell_type": "markdown",
      "metadata": {
        "id": "_i71RFAi9spa",
        "pycharm": {
          "name": "#%% md\n"
        }
      },
      "source": [
        "### Attack"
      ]
    },
    {
      "cell_type": "code",
      "execution_count": 9,
      "metadata": {
        "colab": {
          "base_uri": "https://localhost:8080/"
        },
        "id": "aN_TFp5x9uTE",
        "outputId": "08e3c437-aff2-4c36-8761-2abc11b66956",
        "pycharm": {
          "name": "#%%\n"
        }
      },
      "outputs": [
        {
          "output_type": "stream",
          "name": "stderr",
          "text": [
            "/usr/local/lib/python3.7/dist-packages/IPython/core/interactiveshell.py:3326: DtypeWarning: Columns (1,9,28,46) have mixed types.Specify dtype option on import or set low_memory=False.\n",
            "  exec(code_obj, self.user_global_ns, self.user_ns)\n"
          ]
        },
        {
          "output_type": "execute_result",
          "data": {
            "text/plain": [
              "(449919, 51)"
            ]
          },
          "metadata": {},
          "execution_count": 9
        }
      ],
      "source": [
        "#Read data\n",
        "attack = pd.read_csv(\"input/SWaT_Dataset_Attack_v0.csv\",sep=\";\")#, nrows=1000)\n",
        "labels = [ float(label!= 'Normal' ) for label  in attack[\"Normal/Attack\"].values]\n",
        "attack = attack.drop([\"Timestamp\" , \"Normal/Attack\" ] , axis = 1)\n",
        "attack.shape"
      ]
    },
    {
      "cell_type": "code",
      "execution_count": 10,
      "metadata": {
        "id": "qLCInT-I9_-D",
        "pycharm": {
          "name": "#%%\n"
        }
      },
      "outputs": [],
      "source": [
        "# Transform all columns into float64\n",
        "for i in list(attack):\n",
        "    attack[i]=attack[i].apply(lambda x: str(x).replace(\",\" , \".\"))\n",
        "attack = attack.astype(float)"
      ]
    },
    {
      "cell_type": "markdown",
      "metadata": {
        "id": "c4cB4v3N-Dhu",
        "pycharm": {
          "name": "#%% md\n"
        }
      },
      "source": [
        "#### Normalization"
      ]
    },
    {
      "cell_type": "code",
      "execution_count": 11,
      "metadata": {
        "id": "jZrha9cO-BGK",
        "pycharm": {
          "name": "#%%\n"
        }
      },
      "outputs": [],
      "source": [
        "from sklearn import preprocessing\n",
        "\n",
        "x = attack.values \n",
        "x_scaled = min_max_scaler.transform(x)\n",
        "attack = pd.DataFrame(x_scaled)"
      ]
    },
    {
      "cell_type": "code",
      "execution_count": 12,
      "metadata": {
        "colab": {
          "base_uri": "https://localhost:8080/",
          "height": 185
        },
        "id": "z9SwiPco-BUa",
        "outputId": "dc3f92c9-349f-412e-9851-d4e34a42d7be",
        "pycharm": {
          "name": "#%%\n"
        }
      },
      "outputs": [
        {
          "output_type": "execute_result",
          "data": {
            "text/plain": [
              "         0         1    2    3    4         5         6         7         8   \\\n",
              "0  0.884144  0.577133  1.0  1.0  0.0  0.496158  0.188845  0.064088  0.982899   \n",
              "1  0.891145  0.577190  1.0  1.0  0.0  0.496158  0.188845  0.064088  0.982899   \n",
              "\n",
              "    9   ...        41   42   43        44        45        46        47   48  \\\n",
              "0  1.0  ...  0.970903  1.0  0.0  0.946125  0.449782  0.944116  0.000073  0.0   \n",
              "1  1.0  ...  0.970903  1.0  0.0  0.946125  0.449782  0.944521  0.000073  0.0   \n",
              "\n",
              "    49   50  \n",
              "0  0.0  0.0  \n",
              "1  0.0  0.0  \n",
              "\n",
              "[2 rows x 51 columns]"
            ],
            "text/html": [
              "\n",
              "  <div id=\"df-c7d2664b-eeb7-4f95-b69c-dae09a2bc35b\">\n",
              "    <div class=\"colab-df-container\">\n",
              "      <div>\n",
              "<style scoped>\n",
              "    .dataframe tbody tr th:only-of-type {\n",
              "        vertical-align: middle;\n",
              "    }\n",
              "\n",
              "    .dataframe tbody tr th {\n",
              "        vertical-align: top;\n",
              "    }\n",
              "\n",
              "    .dataframe thead th {\n",
              "        text-align: right;\n",
              "    }\n",
              "</style>\n",
              "<table border=\"1\" class=\"dataframe\">\n",
              "  <thead>\n",
              "    <tr style=\"text-align: right;\">\n",
              "      <th></th>\n",
              "      <th>0</th>\n",
              "      <th>1</th>\n",
              "      <th>2</th>\n",
              "      <th>3</th>\n",
              "      <th>4</th>\n",
              "      <th>5</th>\n",
              "      <th>6</th>\n",
              "      <th>7</th>\n",
              "      <th>8</th>\n",
              "      <th>9</th>\n",
              "      <th>...</th>\n",
              "      <th>41</th>\n",
              "      <th>42</th>\n",
              "      <th>43</th>\n",
              "      <th>44</th>\n",
              "      <th>45</th>\n",
              "      <th>46</th>\n",
              "      <th>47</th>\n",
              "      <th>48</th>\n",
              "      <th>49</th>\n",
              "      <th>50</th>\n",
              "    </tr>\n",
              "  </thead>\n",
              "  <tbody>\n",
              "    <tr>\n",
              "      <th>0</th>\n",
              "      <td>0.884144</td>\n",
              "      <td>0.577133</td>\n",
              "      <td>1.0</td>\n",
              "      <td>1.0</td>\n",
              "      <td>0.0</td>\n",
              "      <td>0.496158</td>\n",
              "      <td>0.188845</td>\n",
              "      <td>0.064088</td>\n",
              "      <td>0.982899</td>\n",
              "      <td>1.0</td>\n",
              "      <td>...</td>\n",
              "      <td>0.970903</td>\n",
              "      <td>1.0</td>\n",
              "      <td>0.0</td>\n",
              "      <td>0.946125</td>\n",
              "      <td>0.449782</td>\n",
              "      <td>0.944116</td>\n",
              "      <td>0.000073</td>\n",
              "      <td>0.0</td>\n",
              "      <td>0.0</td>\n",
              "      <td>0.0</td>\n",
              "    </tr>\n",
              "    <tr>\n",
              "      <th>1</th>\n",
              "      <td>0.891145</td>\n",
              "      <td>0.577190</td>\n",
              "      <td>1.0</td>\n",
              "      <td>1.0</td>\n",
              "      <td>0.0</td>\n",
              "      <td>0.496158</td>\n",
              "      <td>0.188845</td>\n",
              "      <td>0.064088</td>\n",
              "      <td>0.982899</td>\n",
              "      <td>1.0</td>\n",
              "      <td>...</td>\n",
              "      <td>0.970903</td>\n",
              "      <td>1.0</td>\n",
              "      <td>0.0</td>\n",
              "      <td>0.946125</td>\n",
              "      <td>0.449782</td>\n",
              "      <td>0.944521</td>\n",
              "      <td>0.000073</td>\n",
              "      <td>0.0</td>\n",
              "      <td>0.0</td>\n",
              "      <td>0.0</td>\n",
              "    </tr>\n",
              "  </tbody>\n",
              "</table>\n",
              "<p>2 rows × 51 columns</p>\n",
              "</div>\n",
              "      <button class=\"colab-df-convert\" onclick=\"convertToInteractive('df-c7d2664b-eeb7-4f95-b69c-dae09a2bc35b')\"\n",
              "              title=\"Convert this dataframe to an interactive table.\"\n",
              "              style=\"display:none;\">\n",
              "        \n",
              "  <svg xmlns=\"http://www.w3.org/2000/svg\" height=\"24px\"viewBox=\"0 0 24 24\"\n",
              "       width=\"24px\">\n",
              "    <path d=\"M0 0h24v24H0V0z\" fill=\"none\"/>\n",
              "    <path d=\"M18.56 5.44l.94 2.06.94-2.06 2.06-.94-2.06-.94-.94-2.06-.94 2.06-2.06.94zm-11 1L8.5 8.5l.94-2.06 2.06-.94-2.06-.94L8.5 2.5l-.94 2.06-2.06.94zm10 10l.94 2.06.94-2.06 2.06-.94-2.06-.94-.94-2.06-.94 2.06-2.06.94z\"/><path d=\"M17.41 7.96l-1.37-1.37c-.4-.4-.92-.59-1.43-.59-.52 0-1.04.2-1.43.59L10.3 9.45l-7.72 7.72c-.78.78-.78 2.05 0 2.83L4 21.41c.39.39.9.59 1.41.59.51 0 1.02-.2 1.41-.59l7.78-7.78 2.81-2.81c.8-.78.8-2.07 0-2.86zM5.41 20L4 18.59l7.72-7.72 1.47 1.35L5.41 20z\"/>\n",
              "  </svg>\n",
              "      </button>\n",
              "      \n",
              "  <style>\n",
              "    .colab-df-container {\n",
              "      display:flex;\n",
              "      flex-wrap:wrap;\n",
              "      gap: 12px;\n",
              "    }\n",
              "\n",
              "    .colab-df-convert {\n",
              "      background-color: #E8F0FE;\n",
              "      border: none;\n",
              "      border-radius: 50%;\n",
              "      cursor: pointer;\n",
              "      display: none;\n",
              "      fill: #1967D2;\n",
              "      height: 32px;\n",
              "      padding: 0 0 0 0;\n",
              "      width: 32px;\n",
              "    }\n",
              "\n",
              "    .colab-df-convert:hover {\n",
              "      background-color: #E2EBFA;\n",
              "      box-shadow: 0px 1px 2px rgba(60, 64, 67, 0.3), 0px 1px 3px 1px rgba(60, 64, 67, 0.15);\n",
              "      fill: #174EA6;\n",
              "    }\n",
              "\n",
              "    [theme=dark] .colab-df-convert {\n",
              "      background-color: #3B4455;\n",
              "      fill: #D2E3FC;\n",
              "    }\n",
              "\n",
              "    [theme=dark] .colab-df-convert:hover {\n",
              "      background-color: #434B5C;\n",
              "      box-shadow: 0px 1px 3px 1px rgba(0, 0, 0, 0.15);\n",
              "      filter: drop-shadow(0px 1px 2px rgba(0, 0, 0, 0.3));\n",
              "      fill: #FFFFFF;\n",
              "    }\n",
              "  </style>\n",
              "\n",
              "      <script>\n",
              "        const buttonEl =\n",
              "          document.querySelector('#df-c7d2664b-eeb7-4f95-b69c-dae09a2bc35b button.colab-df-convert');\n",
              "        buttonEl.style.display =\n",
              "          google.colab.kernel.accessAllowed ? 'block' : 'none';\n",
              "\n",
              "        async function convertToInteractive(key) {\n",
              "          const element = document.querySelector('#df-c7d2664b-eeb7-4f95-b69c-dae09a2bc35b');\n",
              "          const dataTable =\n",
              "            await google.colab.kernel.invokeFunction('convertToInteractive',\n",
              "                                                     [key], {});\n",
              "          if (!dataTable) return;\n",
              "\n",
              "          const docLinkHtml = 'Like what you see? Visit the ' +\n",
              "            '<a target=\"_blank\" href=https://colab.research.google.com/notebooks/data_table.ipynb>data table notebook</a>'\n",
              "            + ' to learn more about interactive tables.';\n",
              "          element.innerHTML = '';\n",
              "          dataTable['output_type'] = 'display_data';\n",
              "          await google.colab.output.renderOutput(dataTable, element);\n",
              "          const docLink = document.createElement('div');\n",
              "          docLink.innerHTML = docLinkHtml;\n",
              "          element.appendChild(docLink);\n",
              "        }\n",
              "      </script>\n",
              "    </div>\n",
              "  </div>\n",
              "  "
            ]
          },
          "metadata": {},
          "execution_count": 12
        },
        {
          "output_type": "stream",
          "name": "stdout",
          "text": [
            "Warning: Total number of columns (51) exceeds max_columns (20) limiting to first (20) columns.\n"
          ]
        }
      ],
      "source": [
        "attack.head(2)"
      ]
    },
    {
      "cell_type": "markdown",
      "metadata": {
        "id": "xXJi503b-j_d",
        "pycharm": {
          "name": "#%% md\n"
        }
      },
      "source": [
        "### Windows"
      ]
    },
    {
      "cell_type": "code",
      "execution_count": 13,
      "metadata": {
        "id": "vyplttZa-BRN",
        "pycharm": {
          "name": "#%%\n"
        }
      },
      "outputs": [],
      "source": [
        "window_size=12"
      ]
    },
    {
      "cell_type": "code",
      "execution_count": 14,
      "metadata": {
        "colab": {
          "base_uri": "https://localhost:8080/"
        },
        "id": "dzGJMp6Y-BN5",
        "outputId": "6dc6266f-eca7-4758-e46e-3ce02b3829bb",
        "pycharm": {
          "name": "#%%\n"
        }
      },
      "outputs": [
        {
          "output_type": "execute_result",
          "data": {
            "text/plain": [
              "(494988, 12, 51)"
            ]
          },
          "metadata": {},
          "execution_count": 14
        }
      ],
      "source": [
        "windows_normal=normal.values[np.arange(window_size)[None, :] + np.arange(normal.shape[0]-window_size)[:, None]]\n",
        "windows_normal.shape"
      ]
    },
    {
      "cell_type": "code",
      "execution_count": 15,
      "metadata": {
        "colab": {
          "base_uri": "https://localhost:8080/"
        },
        "id": "17LdB3c8-pRH",
        "outputId": "2d362cc9-3a24-4199-fca7-84a6da52e3f1",
        "pycharm": {
          "name": "#%%\n"
        }
      },
      "outputs": [
        {
          "output_type": "execute_result",
          "data": {
            "text/plain": [
              "(449907, 12, 51)"
            ]
          },
          "metadata": {},
          "execution_count": 15
        }
      ],
      "source": [
        "windows_attack=attack.values[np.arange(window_size)[None, :] + np.arange(attack.shape[0]-window_size)[:, None]]\n",
        "windows_attack.shape"
      ]
    },
    {
      "cell_type": "markdown",
      "metadata": {
        "id": "k70ZFxGs-_7m",
        "pycharm": {
          "name": "#%% md\n"
        }
      },
      "source": [
        "## Training"
      ]
    },
    {
      "cell_type": "code",
      "execution_count": 16,
      "metadata": {
        "id": "yi9S0SGnDKNc",
        "pycharm": {
          "name": "#%%\n"
        }
      },
      "outputs": [],
      "source": [
        "import torch.utils.data as data_utils\n",
        "\n",
        "BATCH_SIZE =  7919\n",
        "N_EPOCHS = 100\n",
        "hidden_size = 100\n",
        "\n",
        "w_size=windows_normal.shape[1]*windows_normal.shape[2]\n",
        "z_size=windows_normal.shape[1]*hidden_size\n",
        "\n",
        "windows_normal_train = windows_normal[:int(np.floor(.8 *  windows_normal.shape[0]))]\n",
        "windows_normal_val = windows_normal[int(np.floor(.8 *  windows_normal.shape[0])):int(np.floor(windows_normal.shape[0]))]\n",
        "\n",
        "train_loader = torch.utils.data.DataLoader(data_utils.TensorDataset(\n",
        "    torch.from_numpy(windows_normal_train).float().view(([windows_normal_train.shape[0],w_size]))\n",
        ") , batch_size=BATCH_SIZE, shuffle=False, num_workers=0)\n",
        "\n",
        "val_loader = torch.utils.data.DataLoader(data_utils.TensorDataset(\n",
        "    torch.from_numpy(windows_normal_val).float().view(([windows_normal_val.shape[0],w_size]))\n",
        ") , batch_size=BATCH_SIZE, shuffle=False, num_workers=0)\n",
        "\n",
        "test_loader = torch.utils.data.DataLoader(data_utils.TensorDataset(\n",
        "    torch.from_numpy(windows_attack).float().view(([windows_attack.shape[0],w_size]))\n",
        ") , batch_size=BATCH_SIZE, shuffle=False, num_workers=0)\n",
        "\n",
        "model = GusaiaC(w_size, z_size)\n",
        "model = to_device(model,device)"
      ]
    },
    {
      "cell_type": "code",
      "execution_count": 17,
      "metadata": {
        "colab": {
          "base_uri": "https://localhost:8080/"
        },
        "id": "So9yjDPEDObC",
        "outputId": "e71c7076-5314-4592-bad8-af699aba5414",
        "scrolled": true,
        "pycharm": {
          "name": "#%%\n"
        }
      },
      "outputs": [
        {
          "output_type": "stream",
          "name": "stdout",
          "text": [
            "Epoch 0, D1_loss: 0.0248, D2_loss: 0.0251\n",
            "Epoch 1, D1_loss: 0.0265, D2_loss: -0.0046\n",
            "Epoch 2, D1_loss: 0.0141, D2_loss: -0.0054\n",
            "Epoch 3, D1_loss: 0.0128, D2_loss: -0.0073\n",
            "Epoch 4, D1_loss: 0.0356, D2_loss: -0.0281\n",
            "Epoch 5, D1_loss: 0.0400, D2_loss: -0.0330\n",
            "Epoch 6, D1_loss: 0.0449, D2_loss: -0.0389\n",
            "Epoch 7, D1_loss: 0.0475, D2_loss: -0.0406\n",
            "Epoch 8, D1_loss: 0.0535, D2_loss: -0.0444\n",
            "Epoch 9, D1_loss: 0.0551, D2_loss: -0.0469\n",
            "Epoch 10, D1_loss: 0.0460, D2_loss: -0.0404\n",
            "Epoch 11, D1_loss: 0.0539, D2_loss: -0.0495\n",
            "Epoch 12, D1_loss: 0.0571, D2_loss: -0.0531\n",
            "Epoch 13, D1_loss: 0.0603, D2_loss: -0.0564\n",
            "Epoch 14, D1_loss: 0.0618, D2_loss: -0.0581\n",
            "Epoch 15, D1_loss: 0.1214, D2_loss: -0.1101\n",
            "Epoch 16, D1_loss: 0.1213, D2_loss: -0.1118\n",
            "Epoch 17, D1_loss: 0.1248, D2_loss: -0.1157\n",
            "Epoch 18, D1_loss: 0.1246, D2_loss: -0.1160\n",
            "Epoch 19, D1_loss: 0.1248, D2_loss: -0.1167\n",
            "Epoch 20, D1_loss: 0.1252, D2_loss: -0.1175\n",
            "Epoch 21, D1_loss: 0.1254, D2_loss: -0.1180\n",
            "Epoch 22, D1_loss: 0.1256, D2_loss: -0.1186\n",
            "Epoch 23, D1_loss: 0.1258, D2_loss: -0.1190\n",
            "Epoch 24, D1_loss: 0.1259, D2_loss: -0.1195\n",
            "Epoch 25, D1_loss: 0.1290, D2_loss: -0.1226\n",
            "Epoch 26, D1_loss: 0.1320, D2_loss: -0.1258\n",
            "Epoch 27, D1_loss: 0.1321, D2_loss: -0.1261\n",
            "Epoch 28, D1_loss: 0.1308, D2_loss: -0.1251\n",
            "Epoch 29, D1_loss: 0.1310, D2_loss: -0.1254\n",
            "Epoch 30, D1_loss: 0.1311, D2_loss: -0.1257\n",
            "Epoch 31, D1_loss: 0.1312, D2_loss: -0.1260\n",
            "Epoch 32, D1_loss: 0.1335, D2_loss: -0.1284\n",
            "Epoch 33, D1_loss: 0.1404, D2_loss: -0.1352\n",
            "Epoch 34, D1_loss: 0.1468, D2_loss: -0.1416\n",
            "Epoch 35, D1_loss: 0.1469, D2_loss: -0.1418\n",
            "Epoch 36, D1_loss: 0.1469, D2_loss: -0.1420\n",
            "Epoch 37, D1_loss: 0.1470, D2_loss: -0.1422\n",
            "Epoch 38, D1_loss: 0.1471, D2_loss: -0.1424\n",
            "Epoch 39, D1_loss: 0.1472, D2_loss: -0.1426\n",
            "Epoch 40, D1_loss: 0.1472, D2_loss: -0.1428\n",
            "Epoch 41, D1_loss: 0.1473, D2_loss: -0.1430\n",
            "Epoch 42, D1_loss: 0.1474, D2_loss: -0.1431\n",
            "Epoch 43, D1_loss: 0.1474, D2_loss: -0.1433\n",
            "Epoch 44, D1_loss: 0.1475, D2_loss: -0.1435\n",
            "Epoch 45, D1_loss: 0.1476, D2_loss: -0.1436\n",
            "Epoch 46, D1_loss: 0.1476, D2_loss: -0.1437\n",
            "Epoch 47, D1_loss: 0.1477, D2_loss: -0.1439\n",
            "Epoch 48, D1_loss: 0.1477, D2_loss: -0.1440\n",
            "Epoch 49, D1_loss: 0.1478, D2_loss: -0.1441\n",
            "Epoch 50, D1_loss: 0.1478, D2_loss: -0.1442\n",
            "Epoch 51, D1_loss: 0.1479, D2_loss: -0.1444\n",
            "Epoch 52, D1_loss: 0.1479, D2_loss: -0.1445\n",
            "Epoch 53, D1_loss: 0.1479, D2_loss: -0.1446\n",
            "Epoch 54, D1_loss: 0.1480, D2_loss: -0.1447\n",
            "Epoch 55, D1_loss: 0.1480, D2_loss: -0.1448\n",
            "Epoch 56, D1_loss: 0.1481, D2_loss: -0.1449\n",
            "Epoch 57, D1_loss: 0.1481, D2_loss: -0.1449\n",
            "Epoch 58, D1_loss: 0.1481, D2_loss: -0.1450\n",
            "Epoch 59, D1_loss: 0.1482, D2_loss: -0.1451\n",
            "Epoch 60, D1_loss: 0.1482, D2_loss: -0.1452\n",
            "Epoch 61, D1_loss: 0.1482, D2_loss: -0.1453\n",
            "Epoch 62, D1_loss: 0.1482, D2_loss: -0.1454\n",
            "Epoch 63, D1_loss: 0.1483, D2_loss: -0.1454\n",
            "Epoch 64, D1_loss: 0.1483, D2_loss: -0.1455\n",
            "Epoch 65, D1_loss: 0.1483, D2_loss: -0.1456\n",
            "Epoch 66, D1_loss: 0.1484, D2_loss: -0.1456\n",
            "Epoch 67, D1_loss: 0.1484, D2_loss: -0.1457\n",
            "Epoch 68, D1_loss: 0.1484, D2_loss: -0.1459\n",
            "Epoch 69, D1_loss: 0.1443, D2_loss: -0.1419\n",
            "Epoch 70, D1_loss: 0.1443, D2_loss: -0.1419\n",
            "Epoch 71, D1_loss: 0.1443, D2_loss: -0.1421\n",
            "Epoch 72, D1_loss: 0.1452, D2_loss: -0.1430\n",
            "Epoch 73, D1_loss: 0.1437, D2_loss: -0.1415\n",
            "Epoch 74, D1_loss: 0.1425, D2_loss: -0.1401\n",
            "Epoch 75, D1_loss: 0.1425, D2_loss: -0.1402\n",
            "Epoch 76, D1_loss: 0.1425, D2_loss: -0.1402\n",
            "Epoch 77, D1_loss: 0.1425, D2_loss: -0.1403\n",
            "Epoch 78, D1_loss: 0.1463, D2_loss: -0.1440\n",
            "Epoch 79, D1_loss: 0.1431, D2_loss: -0.1409\n",
            "Epoch 80, D1_loss: 0.1431, D2_loss: -0.1409\n",
            "Epoch 81, D1_loss: 0.1431, D2_loss: -0.1410\n",
            "Epoch 82, D1_loss: 0.1431, D2_loss: -0.1410\n",
            "Epoch 83, D1_loss: 0.1432, D2_loss: -0.1411\n",
            "Epoch 84, D1_loss: 0.1432, D2_loss: -0.1411\n",
            "Epoch 85, D1_loss: 0.1432, D2_loss: -0.1411\n",
            "Epoch 86, D1_loss: 0.1432, D2_loss: -0.1412\n",
            "Epoch 87, D1_loss: 0.1432, D2_loss: -0.1412\n",
            "Epoch 88, D1_loss: 0.1432, D2_loss: -0.1412\n",
            "Epoch 89, D1_loss: 0.1432, D2_loss: -0.1413\n",
            "Epoch 90, D1_loss: 0.1433, D2_loss: -0.1413\n",
            "Epoch 91, D1_loss: 0.1433, D2_loss: -0.1414\n",
            "Epoch 92, D1_loss: 0.1433, D2_loss: -0.1414\n",
            "Epoch 93, D1_loss: 0.1433, D2_loss: -0.1414\n",
            "Epoch 94, D1_loss: 0.1433, D2_loss: -0.1415\n",
            "Epoch 95, D1_loss: 0.1433, D2_loss: -0.1415\n",
            "Epoch 96, D1_loss: 0.1433, D2_loss: -0.1415\n",
            "Epoch 97, D1_loss: 0.1433, D2_loss: -0.1415\n",
            "Epoch 98, D1_loss: 0.1434, D2_loss: -0.1416\n",
            "Epoch 99, D1_loss: 0.1434, D2_loss: -0.1416\n"
          ]
        }
      ],
      "source": [
        "history = fit(N_EPOCHS,model,train_loader,val_loader)"
      ]
    },
    {
      "cell_type": "code",
      "source": [
        "def plot_history_gusaia(history):\n",
        "    D1Loss = [x['D1_val_loss'] for x in history]\n",
        "    D2Loss = [x['D2_val_loss'] for x in history]\n",
        "    plt.plot(D1Loss, '-x', label=\"Decoder- A loss \")\n",
        "    plt.plot(D2Loss, '-x', label=\"Decoder- B loss\")\n",
        "    plt.xlabel('epoch')\n",
        "    plt.ylabel('loss')\n",
        "    plt.legend()\n",
        "    plt.title('Val Loss')\n",
        "    plt.grid()\n",
        "    plt.show()"
      ],
      "metadata": {
        "id": "h09qMRBCXsiY"
      },
      "execution_count": 25,
      "outputs": []
    },
    {
      "cell_type": "code",
      "execution_count": 27,
      "metadata": {
        "colab": {
          "base_uri": "https://localhost:8080/",
          "height": 295
        },
        "id": "fYwlN0JKVVtN",
        "outputId": "835d4cd5-46a5-444f-cfe5-ce3316ef50a5",
        "pycharm": {
          "name": "#%%\n"
        }
      },
      "outputs": [
        {
          "output_type": "display_data",
          "data": {
            "text/plain": [
              "<Figure size 432x288 with 1 Axes>"
            ],
            "image/png": "[encoded data removed]"
          },
          "metadata": {
            "needs_background": "light"
          }
        }
      ],
      "source": [
        "plot_history_gusaia(history)"
      ]
    },
    {
      "cell_type": "code",
      "execution_count": 30,
      "metadata": {
        "id": "ieObNqKYsOzh",
        "pycharm": {
          "name": "#%%\n"
        }
      },
      "outputs": [],
      "source": [
        "torch.save({\n",
        "            'encoder': model.encoder.state_dict(),\n",
        "            'decoder1': model.decoder1.state_dict(),\n",
        "            'decoder2': model.decoder2.state_dict()\n",
        "            }, \"model.pth\")"
      ]
    },
    {
      "cell_type": "markdown",
      "metadata": {
        "id": "ymhjbmvR_DgJ",
        "pycharm": {
          "name": "#%% md\n"
        }
      },
      "source": [
        "## Testing"
      ]
    },
    {
      "cell_type": "code",
      "execution_count": 31,
      "metadata": {
        "colab": {
          "base_uri": "https://localhost:8080/"
        },
        "id": "b7rbm9wdXKeF",
        "outputId": "160c04cf-c4e0-407d-c953-c4c19b48067d",
        "pycharm": {
          "name": "#%%\n"
        }
      },
      "outputs": [
        {
          "output_type": "execute_result",
          "data": {
            "text/plain": [
              "<All keys matched successfully>"
            ]
          },
          "metadata": {},
          "execution_count": 31
        }
      ],
      "source": [
        "checkpoint = torch.load(\"model.pth\")\n",
        "\n",
        "model.encoder.load_state_dict(checkpoint['encoder'])\n",
        "model.decoder1.load_state_dict(checkpoint['decoder1'])\n",
        "model.decoder2.load_state_dict(checkpoint['decoder2'])"
      ]
    },
    {
      "cell_type": "code",
      "execution_count": 32,
      "metadata": {
        "id": "Ry1QTp6V2ny4",
        "pycharm": {
          "name": "#%%\n"
        }
      },
      "outputs": [],
      "source": [
        "results=validate(model,test_loader)"
      ]
    },
    {
      "cell_type": "code",
      "execution_count": 33,
      "metadata": {
        "pycharm": {
          "name": "#%%\n"
        },
        "id": "NARIwiOuwLhF"
      },
      "outputs": [],
      "source": [
        "windows_labels=[]\n",
        "for i in range(len(labels)-window_size):\n",
        "    windows_labels.append(list(np.int_(labels[i:i+window_size])))"
      ]
    },
    {
      "cell_type": "code",
      "execution_count": 34,
      "metadata": {
        "pycharm": {
          "name": "#%%\n"
        },
        "id": "egSAlDCGwLhF"
      },
      "outputs": [],
      "source": [
        "y_test = [1.0 if (np.sum(window) > 0) else 0 for window in windows_labels ]"
      ]
    },
    {
      "cell_type": "code",
      "execution_count": 35,
      "metadata": {
        "id": "FSWwxheNvxR7",
        "pycharm": {
          "name": "#%%\n"
        }
      },
      "outputs": [],
      "source": [
        "y_pred=np.concatenate([torch.stack(results[:-1]).flatten().detach().cpu().numpy(),\n",
        "                              results[-1].flatten().detach().cpu().numpy()])"
      ]
    },
    {
      "cell_type": "code",
      "execution_count": 36,
      "metadata": {
        "colab": {
          "base_uri": "https://localhost:8080/",
          "height": 279
        },
        "id": "bROUyLM93cG3",
        "outputId": "25a8bcdf-b97b-4fce-95b1-6ae30e6fc891",
        "pycharm": {
          "name": "#%%\n"
        }
      },
      "outputs": [
        {
          "output_type": "display_data",
          "data": {
            "text/plain": [
              "<Figure size 432x288 with 1 Axes>"
            ],
            "image/png": "[encoded data removed]"
          },
          "metadata": {
            "needs_background": "light"
          }
        }
      ],
      "source": [
        "threshold=ROC(y_test,y_pred)"
      ]
    },
    {
      "cell_type": "code",
      "source": [
        "confusion_matrix(y_test,y_pred)"
      ],
      "metadata": {
        "id": "xjTkwzdoYgcN"
      },
      "execution_count": null,
      "outputs": []
    }
  ],
  "metadata": {
    "accelerator": "GPU",
    "colab": {
      "provenance": []
    },
    "kernelspec": {
      "display_name": "Python 3",
      "language": "python",
      "name": "python3"
    },
    "language_info": {
      "codemirror_mode": {
        "name": "ipython",
        "version": 3
      },
      "file_extension": ".py",
      "mimetype": "text/x-python",
      "name": "python",
      "nbconvert_exporter": "python",
      "pygments_lexer": "ipython3",
      "version": "3.6.8"
    }
  },
  "nbformat": 4,
  "nbformat_minor": 0
}