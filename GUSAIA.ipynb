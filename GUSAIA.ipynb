{
  "cells": [
    {
      "cell_type": "markdown",
      "metadata": {
        "id": "etniX_KTlJ5U",
        "pycharm": {
          "name": "#%% md\n"
        }
      },
      "source": [
        "# GUSAIA"
      ]
    },
    {
      "cell_type": "code",
      "execution_count": 2,
      "metadata": {
        "colab": {
          "base_uri": "https://localhost:8080/"
        },
        "id": "e3dDxs8LFZdT",
        "outputId": "ae0b9aa0-c521-43c6-d3db-302b9683cdbb",
        "pycharm": {
          "name": "#%%\n"
        }
      },
      "outputs": [
        {
          "output_type": "stream",
          "name": "stdout",
          "text": [
            "Cloning into 'GUSAIA'...\n",
            "remote: Enumerating objects: 22, done.\u001b[K\n",
            "remote: Counting objects: 100% (22/22), done.\u001b[K\n",
            "remote: Compressing objects: 100% (19/19), done.\u001b[K\n",
            "remote: Total 22 (delta 7), reused 15 (delta 3), pack-reused 0\u001b[K\n",
            "Unpacking objects: 100% (22/22), done.\n"
          ]
        }
      ],
      "source": [
        "!git clone https://github.com/JunaidMuzamal/GUSAIA"
      ]
    },
    {
      "cell_type": "code",
      "execution_count": 3,
      "metadata": {
        "colab": {
          "base_uri": "https://localhost:8080/"
        },
        "id": "te9stFZtFfZu",
        "outputId": "55a7a6aa-96af-41d0-dbf6-794ff892ab0d",
        "pycharm": {
          "name": "#%%\n"
        }
      },
      "outputs": [
        {
          "output_type": "stream",
          "name": "stdout",
          "text": [
            "/content/GUSAIA\n"
          ]
        }
      ],
      "source": [
        "%cd GUSAIA"
      ]
    },
    {
      "cell_type": "code",
      "execution_count": 4,
      "metadata": {
        "id": "6u1DGKsAlLF-",
        "pycharm": {
          "name": "#%%\n"
        }
      },
      "outputs": [],
      "source": [
        "import numpy as np\n",
        "import pandas as pd\n",
        "import matplotlib.pyplot as plt\n",
        "import seaborn as sns\n",
        "import torch\n",
        "import torch.nn as nn\n",
        "\n",
        "from utils import *\n",
        "from gusaia import *"
      ]
    },
    {
      "cell_type": "code",
      "execution_count": 5,
      "metadata": {
        "colab": {
          "base_uri": "https://localhost:8080/"
        },
        "id": "4AzWlDBI_djV",
        "outputId": "0d26da7f-b4eb-445a-8365-d78e28b47036",
        "pycharm": {
          "name": "#%%\n"
        }
      },
      "outputs": [
        {
          "output_type": "stream",
          "name": "stdout",
          "text": [
            "GPU 0: Tesla T4 (UUID: GPU-71c0dab4-59e3-ef9c-621e-150afb8eb5d0)\n"
          ]
        }
      ],
      "source": [
        "!nvidia-smi -L\n",
        "\n",
        "device = get_default_device()"
      ]
    },
    {
      "cell_type": "markdown",
      "metadata": {
        "id": "1crx5rGP9ONf",
        "pycharm": {
          "name": "#%% md\n"
        }
      },
      "source": [
        "## EDA - Data Pre-Processing"
      ]
    },
    {
      "cell_type": "markdown",
      "metadata": {
        "id": "vxofeE469RhT",
        "pycharm": {
          "name": "#%% md\n"
        }
      },
      "source": [
        "### Download dataset"
      ]
    },
    {
      "cell_type": "code",
      "execution_count": 6,
      "metadata": {
        "colab": {
          "base_uri": "https://localhost:8080/"
        },
        "id": "i95DlAZI1G_p",
        "outputId": "e7b4f690-4190-4fb3-bdbf-087699ba4112",
        "scrolled": false,
        "pycharm": {
          "name": "#%%\n"
        }
      },
      "outputs": [
        {
          "output_type": "stream",
          "name": "stdout",
          "text": [
            "input/SWaT_Dataset_Normal_v1.csv\n",
            "[==================================================] 163.77MB/163.77MB\n",
            "input/SWaT_Dataset_Attack_v0.csv\n",
            "[==================================================] 127.27MB/127.27MB\n"
          ]
        }
      ],
      "source": [
        "!mkdir input\n",
        "#normal period\n",
        "!python gdrivedl.py https://drive.google.com/open?id=1rVJ5ry5GG-ZZi5yI4x9lICB8VhErXwCw input/\n",
        "#anomalies\n",
        "!python gdrivedl.py https://drive.google.com/open?id=1iDYc0OEmidN712fquOBRFjln90SbpaE7 input/"
      ]
    },
    {
      "cell_type": "markdown",
      "metadata": {
        "id": "kfSj4FYL9W8Y",
        "pycharm": {
          "name": "#%% md\n"
        }
      },
      "source": [
        "### Normal period"
      ]
    },
    {
      "cell_type": "code",
      "execution_count": 7,
      "metadata": {
        "colab": {
          "base_uri": "https://localhost:8080/"
        },
        "id": "XeDLxV_r1G9n",
        "outputId": "d12627fd-68b2-4399-9cae-e48addd56ced",
        "pycharm": {
          "name": "#%%\n"
        }
      },
      "outputs": [
        {
          "output_type": "stream",
          "name": "stderr",
          "text": [
            "/usr/local/lib/python3.7/dist-packages/IPython/core/interactiveshell.py:3326: DtypeWarning: Columns (26) have mixed types.Specify dtype option on import or set low_memory=False.\n",
            "  exec(code_obj, self.user_global_ns, self.user_ns)\n"
          ]
        },
        {
          "output_type": "execute_result",
          "data": {
            "text/plain": [
              "(495000, 51)"
            ]
          },
          "metadata": {},
          "execution_count": 7
        }
      ],
      "source": [
        "#Read data\n",
        "normal = pd.read_csv(\"input/SWaT_Dataset_Normal_v1.csv\")#, nrows=1000)\n",
        "normal = normal.drop([\"Timestamp\" , \"Normal/Attack\" ] , axis = 1)\n",
        "normal.shape"
      ]
    },
    {
      "cell_type": "code",
      "execution_count": 8,
      "metadata": {
        "id": "fFuLm1GH1G2n",
        "pycharm": {
          "name": "#%%\n"
        }
      },
      "outputs": [],
      "source": [
        "# Transform all columns into float64\n",
        "for i in list(normal): \n",
        "    normal[i]=normal[i].apply(lambda x: str(x).replace(\",\" , \".\"))\n",
        "normal = normal.astype(float)"
      ]
    },
    {
      "cell_type": "markdown",
      "metadata": {
        "id": "zxFNH5kU9hIE",
        "pycharm": {
          "name": "#%% md\n"
        }
      },
      "source": [
        "#### Normalization"
      ]
    },
    {
      "cell_type": "code",
      "execution_count": 9,
      "metadata": {
        "id": "Mfxj4Uxn9kv4",
        "pycharm": {
          "name": "#%%\n"
        }
      },
      "outputs": [],
      "source": [
        "from sklearn import preprocessing\n",
        "min_max_scaler = preprocessing.MinMaxScaler()\n",
        "\n",
        "x = normal.values\n",
        "x_scaled = min_max_scaler.fit_transform(x)\n",
        "normal = pd.DataFrame(x_scaled)"
      ]
    },
    {
      "cell_type": "code",
      "execution_count": 9,
      "metadata": {
        "colab": {
          "base_uri": "https://localhost:8080/",
          "height": 205
        },
        "id": "mQ6_U4jn9nlw",
        "outputId": "ded1d55f-8dc0-428f-ce5b-638df4dc9f36",
        "pycharm": {
          "name": "#%%\n"
        }
      },
      "outputs": [
        {
          "output_type": "execute_result",
          "data": {
            "text/plain": [
              "    0         1    2    3    4         5         6         7    8    9   ...  \\\n",
              "0  0.0  0.005294  0.5  0.0  0.0  0.012291  0.075099  0.002009  0.0  0.5  ...   \n",
              "1  0.0  0.005407  0.5  0.0  0.0  0.012291  0.075099  0.002009  0.0  0.5  ...   \n",
              "\n",
              "    41   42   43        44   45        46        47   48   49   50  \n",
              "0  0.0  0.0  0.0  0.000814  0.0  0.001217  0.000147  0.0  0.0  0.0  \n",
              "1  0.0  0.0  0.0  0.000814  0.0  0.001217  0.000147  0.0  0.0  0.0  \n",
              "\n",
              "[2 rows x 51 columns]"
            ],
            "text/html": [
              "\n",
              "  <div id=\"df-89f65a23-803d-491a-96d4-04639a02bfa3\">\n",
              "    <div class=\"colab-df-container\">\n",
              "      <div>\n",
              "<style scoped>\n",
              "    .dataframe tbody tr th:only-of-type {\n",
              "        vertical-align: middle;\n",
              "    }\n",
              "\n",
              "    .dataframe tbody tr th {\n",
              "        vertical-align: top;\n",
              "    }\n",
              "\n",
              "    .dataframe thead th {\n",
              "        text-align: right;\n",
              "    }\n",
              "</style>\n",
              "<table border=\"1\" class=\"dataframe\">\n",
              "  <thead>\n",
              "    <tr style=\"text-align: right;\">\n",
              "      <th></th>\n",
              "      <th>0</th>\n",
              "      <th>1</th>\n",
              "      <th>2</th>\n",
              "      <th>3</th>\n",
              "      <th>4</th>\n",
              "      <th>5</th>\n",
              "      <th>6</th>\n",
              "      <th>7</th>\n",
              "      <th>8</th>\n",
              "      <th>9</th>\n",
              "      <th>...</th>\n",
              "      <th>41</th>\n",
              "      <th>42</th>\n",
              "      <th>43</th>\n",
              "      <th>44</th>\n",
              "      <th>45</th>\n",
              "      <th>46</th>\n",
              "      <th>47</th>\n",
              "      <th>48</th>\n",
              "      <th>49</th>\n",
              "      <th>50</th>\n",
              "    </tr>\n",
              "  </thead>\n",
              "  <tbody>\n",
              "    <tr>\n",
              "      <th>0</th>\n",
              "      <td>0.0</td>\n",
              "      <td>0.005294</td>\n",
              "      <td>0.5</td>\n",
              "      <td>0.0</td>\n",
              "      <td>0.0</td>\n",
              "      <td>0.012291</td>\n",
              "      <td>0.075099</td>\n",
              "      <td>0.002009</td>\n",
              "      <td>0.0</td>\n",
              "      <td>0.5</td>\n",
              "      <td>...</td>\n",
              "      <td>0.0</td>\n",
              "      <td>0.0</td>\n",
              "      <td>0.0</td>\n",
              "      <td>0.000814</td>\n",
              "      <td>0.0</td>\n",
              "      <td>0.001217</td>\n",
              "      <td>0.000147</td>\n",
              "      <td>0.0</td>\n",
              "      <td>0.0</td>\n",
              "      <td>0.0</td>\n",
              "    </tr>\n",
              "    <tr>\n",
              "      <th>1</th>\n",
              "      <td>0.0</td>\n",
              "      <td>0.005407</td>\n",
              "      <td>0.5</td>\n",
              "      <td>0.0</td>\n",
              "      <td>0.0</td>\n",
              "      <td>0.012291</td>\n",
              "      <td>0.075099</td>\n",
              "      <td>0.002009</td>\n",
              "      <td>0.0</td>\n",
              "      <td>0.5</td>\n",
              "      <td>...</td>\n",
              "      <td>0.0</td>\n",
              "      <td>0.0</td>\n",
              "      <td>0.0</td>\n",
              "      <td>0.000814</td>\n",
              "      <td>0.0</td>\n",
              "      <td>0.001217</td>\n",
              "      <td>0.000147</td>\n",
              "      <td>0.0</td>\n",
              "      <td>0.0</td>\n",
              "      <td>0.0</td>\n",
              "    </tr>\n",
              "  </tbody>\n",
              "</table>\n",
              "<p>2 rows × 51 columns</p>\n",
              "</div>\n",
              "      <button class=\"colab-df-convert\" onclick=\"convertToInteractive('df-89f65a23-803d-491a-96d4-04639a02bfa3')\"\n",
              "              title=\"Convert this dataframe to an interactive table.\"\n",
              "              style=\"display:none;\">\n",
              "        \n",
              "  <svg xmlns=\"http://www.w3.org/2000/svg\" height=\"24px\"viewBox=\"0 0 24 24\"\n",
              "       width=\"24px\">\n",
              "    <path d=\"M0 0h24v24H0V0z\" fill=\"none\"/>\n",
              "    <path d=\"M18.56 5.44l.94 2.06.94-2.06 2.06-.94-2.06-.94-.94-2.06-.94 2.06-2.06.94zm-11 1L8.5 8.5l.94-2.06 2.06-.94-2.06-.94L8.5 2.5l-.94 2.06-2.06.94zm10 10l.94 2.06.94-2.06 2.06-.94-2.06-.94-.94-2.06-.94 2.06-2.06.94z\"/><path d=\"M17.41 7.96l-1.37-1.37c-.4-.4-.92-.59-1.43-.59-.52 0-1.04.2-1.43.59L10.3 9.45l-7.72 7.72c-.78.78-.78 2.05 0 2.83L4 21.41c.39.39.9.59 1.41.59.51 0 1.02-.2 1.41-.59l7.78-7.78 2.81-2.81c.8-.78.8-2.07 0-2.86zM5.41 20L4 18.59l7.72-7.72 1.47 1.35L5.41 20z\"/>\n",
              "  </svg>\n",
              "      </button>\n",
              "      \n",
              "  <style>\n",
              "    .colab-df-container {\n",
              "      display:flex;\n",
              "      flex-wrap:wrap;\n",
              "      gap: 12px;\n",
              "    }\n",
              "\n",
              "    .colab-df-convert {\n",
              "      background-color: #E8F0FE;\n",
              "      border: none;\n",
              "      border-radius: 50%;\n",
              "      cursor: pointer;\n",
              "      display: none;\n",
              "      fill: #1967D2;\n",
              "      height: 32px;\n",
              "      padding: 0 0 0 0;\n",
              "      width: 32px;\n",
              "    }\n",
              "\n",
              "    .colab-df-convert:hover {\n",
              "      background-color: #E2EBFA;\n",
              "      box-shadow: 0px 1px 2px rgba(60, 64, 67, 0.3), 0px 1px 3px 1px rgba(60, 64, 67, 0.15);\n",
              "      fill: #174EA6;\n",
              "    }\n",
              "\n",
              "    [theme=dark] .colab-df-convert {\n",
              "      background-color: #3B4455;\n",
              "      fill: #D2E3FC;\n",
              "    }\n",
              "\n",
              "    [theme=dark] .colab-df-convert:hover {\n",
              "      background-color: #434B5C;\n",
              "      box-shadow: 0px 1px 3px 1px rgba(0, 0, 0, 0.15);\n",
              "      filter: drop-shadow(0px 1px 2px rgba(0, 0, 0, 0.3));\n",
              "      fill: #FFFFFF;\n",
              "    }\n",
              "  </style>\n",
              "\n",
              "      <script>\n",
              "        const buttonEl =\n",
              "          document.querySelector('#df-89f65a23-803d-491a-96d4-04639a02bfa3 button.colab-df-convert');\n",
              "        buttonEl.style.display =\n",
              "          google.colab.kernel.accessAllowed ? 'block' : 'none';\n",
              "\n",
              "        async function convertToInteractive(key) {\n",
              "          const element = document.querySelector('#df-89f65a23-803d-491a-96d4-04639a02bfa3');\n",
              "          const dataTable =\n",
              "            await google.colab.kernel.invokeFunction('convertToInteractive',\n",
              "                                                     [key], {});\n",
              "          if (!dataTable) return;\n",
              "\n",
              "          const docLinkHtml = 'Like what you see? Visit the ' +\n",
              "            '<a target=\"_blank\" href=https://colab.research.google.com/notebooks/data_table.ipynb>data table notebook</a>'\n",
              "            + ' to learn more about interactive tables.';\n",
              "          element.innerHTML = '';\n",
              "          dataTable['output_type'] = 'display_data';\n",
              "          await google.colab.output.renderOutput(dataTable, element);\n",
              "          const docLink = document.createElement('div');\n",
              "          docLink.innerHTML = docLinkHtml;\n",
              "          element.appendChild(docLink);\n",
              "        }\n",
              "      </script>\n",
              "    </div>\n",
              "  </div>\n",
              "  "
            ]
          },
          "metadata": {},
          "execution_count": 9
        }
      ],
      "source": [
        "normal.head(2)"
      ]
    },
    {
      "cell_type": "markdown",
      "metadata": {
        "id": "_i71RFAi9spa",
        "pycharm": {
          "name": "#%% md\n"
        }
      },
      "source": [
        "### Attack"
      ]
    },
    {
      "cell_type": "code",
      "execution_count": 10,
      "metadata": {
        "colab": {
          "base_uri": "https://localhost:8080/"
        },
        "id": "aN_TFp5x9uTE",
        "outputId": "0427b780-5f69-474d-ceb9-c3fd9a07a756",
        "pycharm": {
          "name": "#%%\n"
        }
      },
      "outputs": [
        {
          "output_type": "stream",
          "name": "stderr",
          "text": [
            "/usr/local/lib/python3.7/dist-packages/IPython/core/interactiveshell.py:3326: DtypeWarning: Columns (1,9,28,46) have mixed types.Specify dtype option on import or set low_memory=False.\n",
            "  exec(code_obj, self.user_global_ns, self.user_ns)\n"
          ]
        },
        {
          "output_type": "execute_result",
          "data": {
            "text/plain": [
              "(449919, 51)"
            ]
          },
          "metadata": {},
          "execution_count": 10
        }
      ],
      "source": [
        "#Read data\n",
        "attack = pd.read_csv(\"input/SWaT_Dataset_Attack_v0.csv\",sep=\";\")#, nrows=1000)\n",
        "labels = [ float(label!= 'Normal' ) for label  in attack[\"Normal/Attack\"].values]\n",
        "attack = attack.drop([\"Timestamp\" , \"Normal/Attack\" ] , axis = 1)\n",
        "attack.shape"
      ]
    },
    {
      "cell_type": "code",
      "execution_count": 11,
      "metadata": {
        "id": "qLCInT-I9_-D",
        "pycharm": {
          "name": "#%%\n"
        }
      },
      "outputs": [],
      "source": [
        "# Transform all columns into float64\n",
        "for i in list(attack):\n",
        "    attack[i]=attack[i].apply(lambda x: str(x).replace(\",\" , \".\"))\n",
        "attack = attack.astype(float)"
      ]
    },
    {
      "cell_type": "markdown",
      "metadata": {
        "id": "c4cB4v3N-Dhu",
        "pycharm": {
          "name": "#%% md\n"
        }
      },
      "source": [
        "#### Normalization"
      ]
    },
    {
      "cell_type": "code",
      "execution_count": 12,
      "metadata": {
        "id": "jZrha9cO-BGK",
        "pycharm": {
          "name": "#%%\n"
        }
      },
      "outputs": [],
      "source": [
        "from sklearn import preprocessing\n",
        "\n",
        "x = attack.values \n",
        "x_scaled = min_max_scaler.transform(x)\n",
        "attack = pd.DataFrame(x_scaled)"
      ]
    },
    {
      "cell_type": "code",
      "execution_count": 13,
      "metadata": {
        "colab": {
          "base_uri": "https://localhost:8080/",
          "height": 205
        },
        "id": "z9SwiPco-BUa",
        "outputId": "560f16aa-bfd3-4250-cece-50a022847b45",
        "pycharm": {
          "name": "#%%\n"
        }
      },
      "outputs": [
        {
          "output_type": "execute_result",
          "data": {
            "text/plain": [
              "         0         1    2    3    4         5         6         7         8   \\\n",
              "0  0.884144  0.577133  1.0  1.0  0.0  0.496158  0.188845  0.064088  0.982899   \n",
              "1  0.891145  0.577190  1.0  1.0  0.0  0.496158  0.188845  0.064088  0.982899   \n",
              "\n",
              "    9   ...        41   42   43        44        45        46        47   48  \\\n",
              "0  1.0  ...  0.970903  1.0  0.0  0.946125  0.449782  0.944116  0.000073  0.0   \n",
              "1  1.0  ...  0.970903  1.0  0.0  0.946125  0.449782  0.944521  0.000073  0.0   \n",
              "\n",
              "    49   50  \n",
              "0  0.0  0.0  \n",
              "1  0.0  0.0  \n",
              "\n",
              "[2 rows x 51 columns]"
            ],
            "text/html": [
              "\n",
              "  <div id=\"df-2f05b6e0-c213-4997-9bee-a5d63ac3b6c2\">\n",
              "    <div class=\"colab-df-container\">\n",
              "      <div>\n",
              "<style scoped>\n",
              "    .dataframe tbody tr th:only-of-type {\n",
              "        vertical-align: middle;\n",
              "    }\n",
              "\n",
              "    .dataframe tbody tr th {\n",
              "        vertical-align: top;\n",
              "    }\n",
              "\n",
              "    .dataframe thead th {\n",
              "        text-align: right;\n",
              "    }\n",
              "</style>\n",
              "<table border=\"1\" class=\"dataframe\">\n",
              "  <thead>\n",
              "    <tr style=\"text-align: right;\">\n",
              "      <th></th>\n",
              "      <th>0</th>\n",
              "      <th>1</th>\n",
              "      <th>2</th>\n",
              "      <th>3</th>\n",
              "      <th>4</th>\n",
              "      <th>5</th>\n",
              "      <th>6</th>\n",
              "      <th>7</th>\n",
              "      <th>8</th>\n",
              "      <th>9</th>\n",
              "      <th>...</th>\n",
              "      <th>41</th>\n",
              "      <th>42</th>\n",
              "      <th>43</th>\n",
              "      <th>44</th>\n",
              "      <th>45</th>\n",
              "      <th>46</th>\n",
              "      <th>47</th>\n",
              "      <th>48</th>\n",
              "      <th>49</th>\n",
              "      <th>50</th>\n",
              "    </tr>\n",
              "  </thead>\n",
              "  <tbody>\n",
              "    <tr>\n",
              "      <th>0</th>\n",
              "      <td>0.884144</td>\n",
              "      <td>0.577133</td>\n",
              "      <td>1.0</td>\n",
              "      <td>1.0</td>\n",
              "      <td>0.0</td>\n",
              "      <td>0.496158</td>\n",
              "      <td>0.188845</td>\n",
              "      <td>0.064088</td>\n",
              "      <td>0.982899</td>\n",
              "      <td>1.0</td>\n",
              "      <td>...</td>\n",
              "      <td>0.970903</td>\n",
              "      <td>1.0</td>\n",
              "      <td>0.0</td>\n",
              "      <td>0.946125</td>\n",
              "      <td>0.449782</td>\n",
              "      <td>0.944116</td>\n",
              "      <td>0.000073</td>\n",
              "      <td>0.0</td>\n",
              "      <td>0.0</td>\n",
              "      <td>0.0</td>\n",
              "    </tr>\n",
              "    <tr>\n",
              "      <th>1</th>\n",
              "      <td>0.891145</td>\n",
              "      <td>0.577190</td>\n",
              "      <td>1.0</td>\n",
              "      <td>1.0</td>\n",
              "      <td>0.0</td>\n",
              "      <td>0.496158</td>\n",
              "      <td>0.188845</td>\n",
              "      <td>0.064088</td>\n",
              "      <td>0.982899</td>\n",
              "      <td>1.0</td>\n",
              "      <td>...</td>\n",
              "      <td>0.970903</td>\n",
              "      <td>1.0</td>\n",
              "      <td>0.0</td>\n",
              "      <td>0.946125</td>\n",
              "      <td>0.449782</td>\n",
              "      <td>0.944521</td>\n",
              "      <td>0.000073</td>\n",
              "      <td>0.0</td>\n",
              "      <td>0.0</td>\n",
              "      <td>0.0</td>\n",
              "    </tr>\n",
              "  </tbody>\n",
              "</table>\n",
              "<p>2 rows × 51 columns</p>\n",
              "</div>\n",
              "      <button class=\"colab-df-convert\" onclick=\"convertToInteractive('df-2f05b6e0-c213-4997-9bee-a5d63ac3b6c2')\"\n",
              "              title=\"Convert this dataframe to an interactive table.\"\n",
              "              style=\"display:none;\">\n",
              "        \n",
              "  <svg xmlns=\"http://www.w3.org/2000/svg\" height=\"24px\"viewBox=\"0 0 24 24\"\n",
              "       width=\"24px\">\n",
              "    <path d=\"M0 0h24v24H0V0z\" fill=\"none\"/>\n",
              "    <path d=\"M18.56 5.44l.94 2.06.94-2.06 2.06-.94-2.06-.94-.94-2.06-.94 2.06-2.06.94zm-11 1L8.5 8.5l.94-2.06 2.06-.94-2.06-.94L8.5 2.5l-.94 2.06-2.06.94zm10 10l.94 2.06.94-2.06 2.06-.94-2.06-.94-.94-2.06-.94 2.06-2.06.94z\"/><path d=\"M17.41 7.96l-1.37-1.37c-.4-.4-.92-.59-1.43-.59-.52 0-1.04.2-1.43.59L10.3 9.45l-7.72 7.72c-.78.78-.78 2.05 0 2.83L4 21.41c.39.39.9.59 1.41.59.51 0 1.02-.2 1.41-.59l7.78-7.78 2.81-2.81c.8-.78.8-2.07 0-2.86zM5.41 20L4 18.59l7.72-7.72 1.47 1.35L5.41 20z\"/>\n",
              "  </svg>\n",
              "      </button>\n",
              "      \n",
              "  <style>\n",
              "    .colab-df-container {\n",
              "      display:flex;\n",
              "      flex-wrap:wrap;\n",
              "      gap: 12px;\n",
              "    }\n",
              "\n",
              "    .colab-df-convert {\n",
              "      background-color: #E8F0FE;\n",
              "      border: none;\n",
              "      border-radius: 50%;\n",
              "      cursor: pointer;\n",
              "      display: none;\n",
              "      fill: #1967D2;\n",
              "      height: 32px;\n",
              "      padding: 0 0 0 0;\n",
              "      width: 32px;\n",
              "    }\n",
              "\n",
              "    .colab-df-convert:hover {\n",
              "      background-color: #E2EBFA;\n",
              "      box-shadow: 0px 1px 2px rgba(60, 64, 67, 0.3), 0px 1px 3px 1px rgba(60, 64, 67, 0.15);\n",
              "      fill: #174EA6;\n",
              "    }\n",
              "\n",
              "    [theme=dark] .colab-df-convert {\n",
              "      background-color: #3B4455;\n",
              "      fill: #D2E3FC;\n",
              "    }\n",
              "\n",
              "    [theme=dark] .colab-df-convert:hover {\n",
              "      background-color: #434B5C;\n",
              "      box-shadow: 0px 1px 3px 1px rgba(0, 0, 0, 0.15);\n",
              "      filter: drop-shadow(0px 1px 2px rgba(0, 0, 0, 0.3));\n",
              "      fill: #FFFFFF;\n",
              "    }\n",
              "  </style>\n",
              "\n",
              "      <script>\n",
              "        const buttonEl =\n",
              "          document.querySelector('#df-2f05b6e0-c213-4997-9bee-a5d63ac3b6c2 button.colab-df-convert');\n",
              "        buttonEl.style.display =\n",
              "          google.colab.kernel.accessAllowed ? 'block' : 'none';\n",
              "\n",
              "        async function convertToInteractive(key) {\n",
              "          const element = document.querySelector('#df-2f05b6e0-c213-4997-9bee-a5d63ac3b6c2');\n",
              "          const dataTable =\n",
              "            await google.colab.kernel.invokeFunction('convertToInteractive',\n",
              "                                                     [key], {});\n",
              "          if (!dataTable) return;\n",
              "\n",
              "          const docLinkHtml = 'Like what you see? Visit the ' +\n",
              "            '<a target=\"_blank\" href=https://colab.research.google.com/notebooks/data_table.ipynb>data table notebook</a>'\n",
              "            + ' to learn more about interactive tables.';\n",
              "          element.innerHTML = '';\n",
              "          dataTable['output_type'] = 'display_data';\n",
              "          await google.colab.output.renderOutput(dataTable, element);\n",
              "          const docLink = document.createElement('div');\n",
              "          docLink.innerHTML = docLinkHtml;\n",
              "          element.appendChild(docLink);\n",
              "        }\n",
              "      </script>\n",
              "    </div>\n",
              "  </div>\n",
              "  "
            ]
          },
          "metadata": {},
          "execution_count": 13
        }
      ],
      "source": [
        "attack.head(2)"
      ]
    },
    {
      "cell_type": "markdown",
      "metadata": {
        "id": "xXJi503b-j_d",
        "pycharm": {
          "name": "#%% md\n"
        }
      },
      "source": [
        "### Windows"
      ]
    },
    {
      "cell_type": "code",
      "execution_count": 13,
      "metadata": {
        "id": "vyplttZa-BRN",
        "pycharm": {
          "name": "#%%\n"
        }
      },
      "outputs": [],
      "source": [
        "window_size=12"
      ]
    },
    {
      "cell_type": "code",
      "execution_count": 14,
      "metadata": {
        "colab": {
          "base_uri": "https://localhost:8080/"
        },
        "id": "dzGJMp6Y-BN5",
        "outputId": "aa3a3bfa-7e6c-4e58-be07-c62f7a9010d8",
        "pycharm": {
          "name": "#%%\n"
        }
      },
      "outputs": [
        {
          "output_type": "execute_result",
          "data": {
            "text/plain": [
              "(494988, 12, 51)"
            ]
          },
          "metadata": {},
          "execution_count": 14
        }
      ],
      "source": [
        "windows_normal=normal.values[np.arange(window_size)[None, :] + np.arange(normal.shape[0]-window_size)[:, None]]\n",
        "windows_normal.shape"
      ]
    },
    {
      "cell_type": "code",
      "execution_count": 15,
      "metadata": {
        "colab": {
          "base_uri": "https://localhost:8080/"
        },
        "id": "17LdB3c8-pRH",
        "outputId": "4bed0741-56cd-4381-9505-2924273a802d",
        "pycharm": {
          "name": "#%%\n"
        }
      },
      "outputs": [
        {
          "output_type": "execute_result",
          "data": {
            "text/plain": [
              "(449907, 12, 51)"
            ]
          },
          "metadata": {},
          "execution_count": 15
        }
      ],
      "source": [
        "windows_attack=attack.values[np.arange(window_size)[None, :] + np.arange(attack.shape[0]-window_size)[:, None]]\n",
        "windows_attack.shape"
      ]
    },
    {
      "cell_type": "markdown",
      "metadata": {
        "id": "k70ZFxGs-_7m",
        "pycharm": {
          "name": "#%% md\n"
        }
      },
      "source": [
        "## Training"
      ]
    },
    {
      "cell_type": "code",
      "execution_count": 16,
      "metadata": {
        "id": "yi9S0SGnDKNc",
        "pycharm": {
          "name": "#%%\n"
        }
      },
      "outputs": [],
      "source": [
        "import torch.utils.data as data_utils\n",
        "\n",
        "BATCH_SIZE =  7919\n",
        "N_EPOCHS = 100\n",
        "hidden_size = 100\n",
        "\n",
        "w_size=windows_normal.shape[1]*windows_normal.shape[2]\n",
        "z_size=windows_normal.shape[1]*hidden_size\n",
        "\n",
        "windows_normal_train = windows_normal[:int(np.floor(.8 *  windows_normal.shape[0]))]\n",
        "windows_normal_val = windows_normal[int(np.floor(.8 *  windows_normal.shape[0])):int(np.floor(windows_normal.shape[0]))]\n",
        "\n",
        "train_loader = torch.utils.data.DataLoader(data_utils.TensorDataset(\n",
        "    torch.from_numpy(windows_normal_train).float().view(([windows_normal_train.shape[0],w_size]))\n",
        ") , batch_size=BATCH_SIZE, shuffle=False, num_workers=0)\n",
        "\n",
        "val_loader = torch.utils.data.DataLoader(data_utils.TensorDataset(\n",
        "    torch.from_numpy(windows_normal_val).float().view(([windows_normal_val.shape[0],w_size]))\n",
        ") , batch_size=BATCH_SIZE, shuffle=False, num_workers=0)\n",
        "\n",
        "test_loader = torch.utils.data.DataLoader(data_utils.TensorDataset(\n",
        "    torch.from_numpy(windows_attack).float().view(([windows_attack.shape[0],w_size]))\n",
        ") , batch_size=BATCH_SIZE, shuffle=False, num_workers=0)\n",
        "\n",
        "model = GusaiaC(w_size, z_size)\n",
        "model = to_device(model,device)"
      ]
    },
    {
      "cell_type": "code",
      "execution_count": 18,
      "metadata": {
        "colab": {
          "base_uri": "https://localhost:8080/"
        },
        "id": "So9yjDPEDObC",
        "outputId": "2ad5cd7e-0d8d-4d39-cd85-1ca964f0c13a",
        "scrolled": true,
        "pycharm": {
          "name": "#%%\n"
        }
      },
      "outputs": [
        {
          "output_type": "stream",
          "name": "stdout",
          "text": [
            "Epoch 0, D1_loss: 0.0263, D2_loss: 0.0257\n",
            "Epoch 1, D1_loss: 0.0295, D2_loss: -0.0033\n",
            "Epoch 2, D1_loss: 0.0342, D2_loss: -0.0185\n",
            "Epoch 3, D1_loss: 0.0442, D2_loss: -0.0236\n",
            "Epoch 4, D1_loss: 0.0350, D2_loss: -0.0228\n",
            "Epoch 5, D1_loss: 0.0303, D2_loss: -0.0216\n",
            "Epoch 6, D1_loss: 0.0301, D2_loss: -0.0226\n",
            "Epoch 7, D1_loss: 0.0339, D2_loss: -0.0269\n",
            "Epoch 8, D1_loss: 0.0377, D2_loss: -0.0310\n",
            "Epoch 9, D1_loss: 0.0302, D2_loss: -0.0250\n",
            "Epoch 10, D1_loss: 0.0302, D2_loss: -0.0254\n",
            "Epoch 11, D1_loss: 0.0303, D2_loss: -0.0258\n",
            "Epoch 12, D1_loss: 0.0307, D2_loss: -0.0266\n",
            "Epoch 13, D1_loss: 0.0305, D2_loss: -0.0267\n",
            "Epoch 14, D1_loss: 0.0307, D2_loss: -0.0271\n",
            "Epoch 15, D1_loss: 0.0308, D2_loss: -0.0274\n",
            "Epoch 16, D1_loss: 0.0310, D2_loss: -0.0279\n",
            "Epoch 17, D1_loss: 0.0311, D2_loss: -0.0281\n",
            "Epoch 18, D1_loss: 0.0314, D2_loss: -0.0285\n",
            "Epoch 19, D1_loss: 0.0309, D2_loss: -0.0282\n",
            "Epoch 20, D1_loss: 0.0315, D2_loss: -0.0289\n",
            "Epoch 21, D1_loss: 0.0310, D2_loss: -0.0285\n",
            "Epoch 22, D1_loss: 0.0322, D2_loss: -0.0297\n",
            "Epoch 23, D1_loss: 0.0311, D2_loss: -0.0288\n",
            "Epoch 24, D1_loss: 0.0320, D2_loss: -0.0297\n",
            "Epoch 25, D1_loss: 0.0310, D2_loss: -0.0289\n",
            "Epoch 26, D1_loss: 0.0319, D2_loss: -0.0298\n",
            "Epoch 27, D1_loss: 0.0312, D2_loss: -0.0293\n",
            "Epoch 28, D1_loss: 0.0320, D2_loss: -0.0301\n",
            "Epoch 29, D1_loss: 0.0311, D2_loss: -0.0293\n",
            "Epoch 30, D1_loss: 0.0318, D2_loss: -0.0300\n",
            "Epoch 31, D1_loss: 0.0315, D2_loss: -0.0298\n",
            "Epoch 32, D1_loss: 0.0320, D2_loss: -0.0303\n",
            "Epoch 33, D1_loss: 0.0313, D2_loss: -0.0297\n",
            "Epoch 34, D1_loss: 0.0323, D2_loss: -0.0307\n",
            "Epoch 35, D1_loss: 0.0319, D2_loss: -0.0304\n",
            "Epoch 36, D1_loss: 0.0316, D2_loss: -0.0301\n",
            "Epoch 37, D1_loss: 0.0316, D2_loss: -0.0301\n",
            "Epoch 38, D1_loss: 0.0318, D2_loss: -0.0303\n",
            "Epoch 39, D1_loss: 0.0318, D2_loss: -0.0304\n",
            "Epoch 40, D1_loss: 0.0314, D2_loss: -0.0300\n",
            "Epoch 41, D1_loss: 0.0312, D2_loss: -0.0299\n",
            "Epoch 42, D1_loss: 0.0317, D2_loss: -0.0303\n",
            "Epoch 43, D1_loss: 0.0316, D2_loss: -0.0303\n",
            "Epoch 44, D1_loss: 0.0319, D2_loss: -0.0306\n",
            "Epoch 45, D1_loss: 0.0312, D2_loss: -0.0300\n",
            "Epoch 46, D1_loss: 0.0317, D2_loss: -0.0305\n",
            "Epoch 47, D1_loss: 0.0315, D2_loss: -0.0304\n",
            "Epoch 48, D1_loss: 0.0316, D2_loss: -0.0304\n",
            "Epoch 49, D1_loss: 0.0314, D2_loss: -0.0303\n",
            "Epoch 50, D1_loss: 0.0317, D2_loss: -0.0305\n",
            "Epoch 51, D1_loss: 0.0319, D2_loss: -0.0308\n",
            "Epoch 52, D1_loss: 0.0319, D2_loss: -0.0308\n",
            "Epoch 53, D1_loss: 0.0319, D2_loss: -0.0308\n",
            "Epoch 54, D1_loss: 0.0316, D2_loss: -0.0306\n",
            "Epoch 55, D1_loss: 0.0322, D2_loss: -0.0312\n",
            "Epoch 56, D1_loss: 0.0313, D2_loss: -0.0303\n",
            "Epoch 57, D1_loss: 0.0317, D2_loss: -0.0307\n",
            "Epoch 58, D1_loss: 0.0322, D2_loss: -0.0312\n",
            "Epoch 59, D1_loss: 0.0319, D2_loss: -0.0309\n",
            "Epoch 60, D1_loss: 0.0320, D2_loss: -0.0311\n",
            "Epoch 61, D1_loss: 0.0314, D2_loss: -0.0305\n",
            "Epoch 62, D1_loss: 0.0317, D2_loss: -0.0308\n",
            "Epoch 63, D1_loss: 0.0318, D2_loss: -0.0309\n",
            "Epoch 64, D1_loss: 0.0318, D2_loss: -0.0310\n",
            "Epoch 65, D1_loss: 0.0318, D2_loss: -0.0310\n",
            "Epoch 66, D1_loss: 0.0318, D2_loss: -0.0310\n",
            "Epoch 67, D1_loss: 0.0319, D2_loss: -0.0310\n",
            "Epoch 68, D1_loss: 0.0319, D2_loss: -0.0311\n",
            "Epoch 69, D1_loss: 0.0320, D2_loss: -0.0311\n",
            "Epoch 70, D1_loss: 0.0324, D2_loss: -0.0316\n",
            "Epoch 71, D1_loss: 0.0327, D2_loss: -0.0319\n",
            "Epoch 72, D1_loss: 0.0329, D2_loss: -0.0321\n",
            "Epoch 73, D1_loss: 0.0329, D2_loss: -0.0321\n",
            "Epoch 74, D1_loss: 0.0327, D2_loss: -0.0319\n",
            "Epoch 75, D1_loss: 0.0324, D2_loss: -0.0317\n",
            "Epoch 76, D1_loss: 0.0323, D2_loss: -0.0315\n",
            "Epoch 77, D1_loss: 0.0323, D2_loss: -0.0315\n",
            "Epoch 78, D1_loss: 0.0323, D2_loss: -0.0315\n",
            "Epoch 79, D1_loss: 0.0322, D2_loss: -0.0315\n",
            "Epoch 80, D1_loss: 0.0322, D2_loss: -0.0315\n",
            "Epoch 81, D1_loss: 0.0322, D2_loss: -0.0315\n",
            "Epoch 82, D1_loss: 0.0322, D2_loss: -0.0315\n",
            "Epoch 83, D1_loss: 0.0322, D2_loss: -0.0315\n",
            "Epoch 84, D1_loss: 0.0321, D2_loss: -0.0315\n",
            "Epoch 85, D1_loss: 0.0323, D2_loss: -0.0316\n",
            "Epoch 86, D1_loss: 0.0323, D2_loss: -0.0316\n",
            "Epoch 87, D1_loss: 0.0323, D2_loss: -0.0316\n",
            "Epoch 88, D1_loss: 0.0323, D2_loss: -0.0317\n",
            "Epoch 89, D1_loss: 0.0323, D2_loss: -0.0317\n",
            "Epoch 90, D1_loss: 0.0324, D2_loss: -0.0317\n",
            "Epoch 91, D1_loss: 0.0324, D2_loss: -0.0318\n",
            "Epoch 92, D1_loss: 0.0331, D2_loss: -0.0318\n",
            "Epoch 93, D1_loss: 0.0332, D2_loss: -0.0319\n",
            "Epoch 94, D1_loss: 0.0332, D2_loss: -0.0319\n",
            "Epoch 95, D1_loss: 0.0332, D2_loss: -0.0320\n",
            "Epoch 96, D1_loss: 0.0330, D2_loss: -0.0318\n",
            "Epoch 97, D1_loss: 0.0328, D2_loss: -0.0315\n",
            "Epoch 98, D1_loss: 0.0331, D2_loss: -0.0319\n",
            "Epoch 99, D1_loss: 0.0331, D2_loss: -0.0319\n"
          ]
        }
      ],
      "source": [
        "history = fit(N_EPOCHS,model,train_loader,val_loader)"
      ]
    },
    {
      "cell_type": "code",
      "execution_count": 19,
      "metadata": {
        "colab": {
          "base_uri": "https://localhost:8080/",
          "height": 295
        },
        "id": "fYwlN0JKVVtN",
        "outputId": "f79b1e93-7734-4963-ae41-1f9512f84845",
        "pycharm": {
          "name": "#%%\n"
        }
      },
      "outputs": [
        {
          "output_type": "display_data",
          "data": {
            "text/plain": [
              "<Figure size 432x288 with 1 Axes>"
            ],
            "image/png": "[encoded data removed]"
          },
          "metadata": {
            "needs_background": "light"
          }
        }
      ],
      "source": [
        "plot_history(history)"
      ]
    },
    {
      "cell_type": "code",
      "execution_count": 21,
      "metadata": {
        "id": "ieObNqKYsOzh",
        "pycharm": {
          "name": "#%%\n"
        }
      },
      "outputs": [],
      "source": [
        "torch.save({\n",
        "            'encoder': model.encoder.state_dict(),\n",
        "            'decoder1': model.decoder1.state_dict(),\n",
        "            'decoder2': model.decoder2.state_dict()\n",
        "            }, \"model.pth\")"
      ]
    },
    {
      "cell_type": "markdown",
      "metadata": {
        "id": "ymhjbmvR_DgJ",
        "pycharm": {
          "name": "#%% md\n"
        }
      },
      "source": [
        "## Testing"
      ]
    },
    {
      "cell_type": "code",
      "execution_count": 17,
      "metadata": {
        "colab": {
          "base_uri": "https://localhost:8080/"
        },
        "id": "b7rbm9wdXKeF",
        "outputId": "ba8fec38-9404-4cd7-bdb7-ebed59acb410",
        "pycharm": {
          "name": "#%%\n"
        }
      },
      "outputs": [
        {
          "output_type": "execute_result",
          "data": {
            "text/plain": [
              "<All keys matched successfully>"
            ]
          },
          "metadata": {},
          "execution_count": 17
        }
      ],
      "source": [
        "checkpoint = torch.load(\"model.pth\")\n",
        "\n",
        "model.encoder.load_state_dict(checkpoint['encoder'])\n",
        "model.decoder1.load_state_dict(checkpoint['decoder1'])\n",
        "model.decoder2.load_state_dict(checkpoint['decoder2'])"
      ]
    },
    {
      "cell_type": "code",
      "execution_count": 18,
      "metadata": {
        "id": "Ry1QTp6V2ny4",
        "pycharm": {
          "name": "#%%\n"
        }
      },
      "outputs": [],
      "source": [
        "results=validate(model,test_loader)"
      ]
    },
    {
      "cell_type": "code",
      "execution_count": 19,
      "metadata": {
        "pycharm": {
          "name": "#%%\n"
        },
        "id": "NARIwiOuwLhF"
      },
      "outputs": [],
      "source": [
        "windows_labels=[]\n",
        "for i in range(len(labels)-window_size):\n",
        "    windows_labels.append(list(np.int_(labels[i:i+window_size])))"
      ]
    },
    {
      "cell_type": "code",
      "execution_count": 20,
      "metadata": {
        "pycharm": {
          "name": "#%%\n"
        },
        "id": "egSAlDCGwLhF"
      },
      "outputs": [],
      "source": [
        "y_test = [1.0 if (np.sum(window) > 0) else 0 for window in windows_labels ]"
      ]
    },
    {
      "cell_type": "code",
      "execution_count": 21,
      "metadata": {
        "id": "FSWwxheNvxR7",
        "pycharm": {
          "name": "#%%\n"
        }
      },
      "outputs": [],
      "source": [
        "y_pred=np.concatenate([torch.stack(results[:-1]).flatten().detach().cpu().numpy(),\n",
        "                              results[-1].flatten().detach().cpu().numpy()])"
      ]
    },
    {
      "cell_type": "code",
      "execution_count": 27,
      "metadata": {
        "colab": {
          "base_uri": "https://localhost:8080/",
          "height": 279
        },
        "id": "bROUyLM93cG3",
        "outputId": "0faf77e9-beec-43db-fd77-4a04e699f308",
        "pycharm": {
          "name": "#%%\n"
        }
      },
      "outputs": [
        {
          "output_type": "display_data",
          "data": {
            "text/plain": [
              "<Figure size 432x288 with 1 Axes>"
            ],
            "image/png": "[encoded data removed]"
          },
          "metadata": {
            "needs_background": "light"
          }
        }
      ],
      "source": [
        "threshold=ROC(y_test,y_pred)"
      ]
    },
    {
      "cell_type": "code",
      "source": [
        "confusion_matrix(y_test,y_pred)"
      ],
      "metadata": {
        "colab": {
          "base_uri": "https://localhost:8080/",
          "height": 284
        },
        "id": "9HKmt9iVnFKz",
        "outputId": "5a1d1186-8921-4925-9491-27c29297c747"
      },
      "execution_count": 22,
      "outputs": [
        {
          "output_type": "display_data",
          "data": {
            "text/plain": [
              "<Figure size 432x288 with 2 Axes>"
            ],
            "image/png": "[encoded data removed]"
          },
          "metadata": {
            "needs_background": "light"
          }
        }
      ]
    }
  ],
  "metadata": {
    "accelerator": "GPU",
    "colab": {
      "provenance": [],
      "machine_shape": "hm"
    },
    "kernelspec": {
      "display_name": "Python 3",
      "language": "python",
      "name": "python3"
    },
    "language_info": {
      "codemirror_mode": {
        "name": "ipython",
        "version": 3
      },
      "file_extension": ".py",
      "mimetype": "text/x-python",
      "name": "python",
      "nbconvert_exporter": "python",
      "pygments_lexer": "ipython3",
      "version": "3.6.8"
    },
    "gpuClass": "standard"
  },
  "nbformat": 4,
  "nbformat_minor": 0
}